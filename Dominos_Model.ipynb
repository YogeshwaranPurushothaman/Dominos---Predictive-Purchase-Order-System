{
 "cells": [
  {
   "cell_type": "code",
   "execution_count": 7,
   "id": "17ee9193-39ea-4270-9f99-3b6b0dbb73c8",
   "metadata": {},
   "outputs": [
    {
     "name": "stderr",
     "output_type": "stream",
     "text": [
      "C:\\Users\\Bhuvanesh\\anaconda3\\Lib\\site-packages\\statsmodels\\tsa\\base\\tsa_model.py:473: ValueWarning: No frequency information was provided, so inferred frequency D will be used.\n",
      "  self._init_dates(dates, freq)\n"
     ]
    }
   ],
   "source": [
    "import pandas as pd\n",
    "from statsmodels.tsa.api import VAR\n",
    "\n",
    "# Example data with multiple target columns\n",
    "df_multi = pd.DataFrame({\n",
    "    'Date': pd.date_range(start='1/1/2023', periods=100, freq='D'),\n",
    "    'Value_1': [20 + i + (i**0.5)*3 for i in range(100)],\n",
    "    'Value_2': [25 + i + (i**0.5)*2 for i in range(100)]\n",
    "})\n",
    "df_multi.set_index('Date', inplace=True)\n",
    "\n",
    "# Fit VAR model on both target columns\n",
    "model_var = VAR(df_multi)\n",
    "model_fit = model_var.fit()\n",
    "\n",
    "# Forecast for the next 10 steps\n",
    "forecast_var = model_fit.forecast(df_multi.values[-model_fit.k_ar:], steps=10)\n"
   ]
  },
  {
   "cell_type": "code",
   "execution_count": 9,
   "id": "00c81dea-11a5-4bba-9ec2-8a33e881e40f",
   "metadata": {},
   "outputs": [
    {
     "data": {
      "text/plain": [
       "array([[150.14829148, 145.09886099],\n",
       "       [151.43320208, 146.28880139],\n",
       "       [152.70630757, 147.47087171],\n",
       "       [153.96928346, 148.64618897],\n",
       "       [155.22356744, 149.81571163],\n",
       "       [156.47039317, 150.98026211],\n",
       "       [157.7108192 , 152.14054613],\n",
       "       [158.94575384, 153.29716923],\n",
       "       [160.1759765 , 154.450651  ],\n",
       "       [161.40215595, 155.6014373 ]])"
      ]
     },
     "execution_count": 9,
     "metadata": {},
     "output_type": "execute_result"
    }
   ],
   "source": [
    "forecast_var"
   ]
  },
  {
   "cell_type": "code",
   "execution_count": null,
   "id": "580d47b0-a7c0-4c30-a523-3c44cc0ca111",
   "metadata": {},
   "outputs": [],
   "source": []
  }
 ],
 "metadata": {
  "kernelspec": {
   "display_name": "Python 3 (ipykernel)",
   "language": "python",
   "name": "python3"
  },
  "language_info": {
   "codemirror_mode": {
    "name": "ipython",
    "version": 3
   },
   "file_extension": ".py",
   "mimetype": "text/x-python",
   "name": "python",
   "nbconvert_exporter": "python",
   "pygments_lexer": "ipython3",
   "version": "3.11.7"
  }
 },
 "nbformat": 4,
 "nbformat_minor": 5
}
